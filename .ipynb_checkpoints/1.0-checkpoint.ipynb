{
 "cells": [
  {
   "cell_type": "code",
   "execution_count": null,
   "id": "4d1483aa-8628-465c-9b60-400c28b93b5b",
   "metadata": {},
   "outputs": [
    {
     "name": "stdout",
     "output_type": "stream",
     "text": [
      "Looking in indexes: https://mirrors.cloud.aliyuncs.com/pypi/simple\n",
      "Requirement already satisfied: transformers in /home/pai/lib/python3.6/site-packages (4.18.0)\n",
      "Requirement already satisfied: importlib-metadata in /home/pai/lib/python3.6/site-packages (from transformers) (4.8.1)\n",
      "Requirement already satisfied: tokenizers!=0.11.3,<0.13,>=0.11.1 in /home/pai/lib/python3.6/site-packages (from transformers) (0.12.1)\n",
      "Requirement already satisfied: pyyaml>=5.1 in /home/pai/lib/python3.6/site-packages (from transformers) (5.4.1)\n",
      "Requirement already satisfied: huggingface-hub<1.0,>=0.1.0 in /home/pai/lib/python3.6/site-packages (from transformers) (0.4.0)\n",
      "Requirement already satisfied: filelock in /home/pai/lib/python3.6/site-packages (from transformers) (3.4.1)\n",
      "Requirement already satisfied: requests in /home/pai/lib/python3.6/site-packages (from transformers) (2.18.4)\n",
      "Requirement already satisfied: packaging>=20.0 in /home/pai/lib/python3.6/site-packages (from transformers) (21.3)\n",
      "Requirement already satisfied: sacremoses in /home/pai/lib/python3.6/site-packages (from transformers) (0.0.53)\n",
      "Requirement already satisfied: dataclasses in /home/pai/lib/python3.6/site-packages (from transformers) (0.8)\n",
      "Requirement already satisfied: numpy>=1.17 in /home/pai/lib/python3.6/site-packages (from transformers) (1.19.5)\n",
      "Requirement already satisfied: tqdm>=4.27 in /home/pai/lib/python3.6/site-packages (from transformers) (4.64.1)\n",
      "Requirement already satisfied: regex!=2019.12.17 in /home/pai/lib/python3.6/site-packages (from transformers) (2022.3.2)\n",
      "Requirement already satisfied: typing-extensions>=3.7.4.3 in /home/pai/lib/python3.6/site-packages (from huggingface-hub<1.0,>=0.1.0->transformers) (4.1.1)\n",
      "Requirement already satisfied: pyparsing!=3.0.5,>=2.0.2 in /home/pai/lib/python3.6/site-packages (from packaging>=20.0->transformers) (3.0.9)\n",
      "Requirement already satisfied: importlib-resources in /home/pai/lib/python3.6/site-packages (from tqdm>=4.27->transformers) (5.4.0)\n",
      "Requirement already satisfied: zipp>=0.5 in /home/pai/lib/python3.6/site-packages (from importlib-metadata->transformers) (3.6.0)\n",
      "Requirement already satisfied: chardet<3.1.0,>=3.0.2 in /home/pai/lib/python3.6/site-packages (from requests->transformers) (3.0.4)\n",
      "Requirement already satisfied: idna<2.7,>=2.5 in /home/pai/lib/python3.6/site-packages (from requests->transformers) (2.6)\n",
      "Requirement already satisfied: urllib3<1.23,>=1.21.1 in /home/pai/lib/python3.6/site-packages (from requests->transformers) (1.22)\n",
      "Requirement already satisfied: certifi>=2017.4.17 in /home/pai/lib/python3.6/site-packages (from requests->transformers) (2021.5.30)\n",
      "Requirement already satisfied: click in /home/pai/lib/python3.6/site-packages (from sacremoses->transformers) (8.0.4)\n",
      "Requirement already satisfied: six in /home/pai/lib/python3.6/site-packages (from sacremoses->transformers) (1.16.0)\n",
      "Requirement already satisfied: joblib in /home/pai/lib/python3.6/site-packages (from sacremoses->transformers) (1.0.1)\n",
      "\u001b[33mWARNING: Running pip as the 'root' user can result in broken permissions and conflicting behaviour with the system package manager. It is recommended to use a virtual environment instead: https://pip.pypa.io/warnings/venv\u001b[0m\n"
     ]
    },
    {
     "ename": "ImportError",
     "evalue": "cannot import name 'ErnieModel'",
     "output_type": "error",
     "traceback": [
      "\u001b[0;31m---------------------------------------------------------------------------\u001b[0m",
      "\u001b[0;31mImportError\u001b[0m                               Traceback (most recent call last)",
      "\u001b[0;32m<ipython-input-2-af1fd1441a8d>\u001b[0m in \u001b[0;36m<module>\u001b[0;34m\u001b[0m\n\u001b[1;32m      5\u001b[0m \u001b[0;32mfrom\u001b[0m \u001b[0mtorch\u001b[0m\u001b[0;34m.\u001b[0m\u001b[0mutils\u001b[0m\u001b[0;34m.\u001b[0m\u001b[0mdata\u001b[0m \u001b[0;32mimport\u001b[0m \u001b[0mDataLoader\u001b[0m\u001b[0;34m\u001b[0m\u001b[0;34m\u001b[0m\u001b[0m\n\u001b[1;32m      6\u001b[0m \u001b[0;32mfrom\u001b[0m \u001b[0msklearn\u001b[0m\u001b[0;34m.\u001b[0m\u001b[0mmetrics\u001b[0m \u001b[0;32mimport\u001b[0m \u001b[0maccuracy_score\u001b[0m\u001b[0;34m\u001b[0m\u001b[0;34m\u001b[0m\u001b[0m\n\u001b[0;32m----> 7\u001b[0;31m \u001b[0;32mfrom\u001b[0m \u001b[0mtransformers\u001b[0m \u001b[0;32mimport\u001b[0m \u001b[0mBertTokenizer\u001b[0m\u001b[0;34m,\u001b[0m \u001b[0mErnieModel\u001b[0m\u001b[0;34m\u001b[0m\u001b[0;34m\u001b[0m\u001b[0m\n\u001b[0m\u001b[1;32m      8\u001b[0m \u001b[0mtokenizer\u001b[0m \u001b[0;34m=\u001b[0m \u001b[0mBertTokenizer\u001b[0m\u001b[0;34m.\u001b[0m\u001b[0mfrom_pretrained\u001b[0m\u001b[0;34m(\u001b[0m\u001b[0;34m\"nghuyong/ernie-3.0-xbase-zh\"\u001b[0m\u001b[0;34m)\u001b[0m\u001b[0;34m\u001b[0m\u001b[0;34m\u001b[0m\u001b[0m\n\u001b[1;32m      9\u001b[0m \u001b[0mmodel\u001b[0m \u001b[0;34m=\u001b[0m \u001b[0mErnieModel\u001b[0m\u001b[0;34m.\u001b[0m\u001b[0mfrom_pretrained\u001b[0m\u001b[0;34m(\u001b[0m\u001b[0;34m\"nghuyong/ernie-3.0-xbase-zh\"\u001b[0m\u001b[0;34m)\u001b[0m\u001b[0;34m\u001b[0m\u001b[0;34m\u001b[0m\u001b[0m\n",
      "\u001b[0;31mImportError\u001b[0m: cannot import name 'ErnieModel'"
     ]
    }
   ],
   "source": [
    "#导入模型及相关的包\n",
    "! pip install --upgrade transformers\n",
    "import torch\n",
    "from torch import nn\n",
    "from torch.utils.data import DataLoader\n",
    "from sklearn.metrics import accuracy_score\n",
    "from transformers import BertTokenizer, ErnieModel\n",
    "tokenizer = BertTokenizer.from_pretrained(\"nghuyong/ernie-3.0-xbase-zh\")\n",
    "model = ErnieModel.from_pretrained(\"nghuyong/ernie-3.0-xbase-zh\")"
   ]
  },
  {
   "cell_type": "code",
   "execution_count": null,
   "id": "de734556-236a-486c-8369-0bb4220e4e0c",
   "metadata": {},
   "outputs": [],
   "source": [
    "#定义超参数\n",
    "batch_size = 32\n",
    "num_epochs = 10\n",
    "learning_rate = 2e-5\n",
    "num_classes = 16 "
   ]
  },
  {
   "cell_type": "code",
   "execution_count": null,
   "id": "7faf55f2-1b73-49b7-87e7-8a0f23a07eb7",
   "metadata": {},
   "outputs": [
    {
     "ename": "NameError",
     "evalue": "name 'nn' is not defined",
     "output_type": "error",
     "traceback": [
      "\u001b[0;31m---------------------------------------------------------------------------\u001b[0m",
      "\u001b[0;31mNameError\u001b[0m                                 Traceback (most recent call last)",
      "\u001b[0;32m<ipython-input-1-5266916d0739>\u001b[0m in \u001b[0;36m<module>\u001b[0;34m\u001b[0m\n\u001b[1;32m      1\u001b[0m \u001b[0;31m# 定义分类器，可以根据需要修改\u001b[0m\u001b[0;34m\u001b[0m\u001b[0;34m\u001b[0m\u001b[0;34m\u001b[0m\u001b[0m\n\u001b[0;32m----> 2\u001b[0;31m \u001b[0;32mclass\u001b[0m \u001b[0mClassifier\u001b[0m\u001b[0;34m(\u001b[0m\u001b[0mnn\u001b[0m\u001b[0;34m.\u001b[0m\u001b[0mModule\u001b[0m\u001b[0;34m)\u001b[0m\u001b[0;34m:\u001b[0m\u001b[0;34m\u001b[0m\u001b[0;34m\u001b[0m\u001b[0m\n\u001b[0m\u001b[1;32m      3\u001b[0m     \u001b[0;32mdef\u001b[0m \u001b[0m__init__\u001b[0m\u001b[0;34m(\u001b[0m\u001b[0mself\u001b[0m\u001b[0;34m,\u001b[0m \u001b[0mmodel\u001b[0m\u001b[0;34m,\u001b[0m \u001b[0mnum_classes\u001b[0m\u001b[0;34m)\u001b[0m\u001b[0;34m:\u001b[0m\u001b[0;34m\u001b[0m\u001b[0;34m\u001b[0m\u001b[0m\n\u001b[1;32m      4\u001b[0m         \u001b[0msuper\u001b[0m\u001b[0;34m(\u001b[0m\u001b[0;34m)\u001b[0m\u001b[0;34m.\u001b[0m\u001b[0m__init__\u001b[0m\u001b[0;34m(\u001b[0m\u001b[0;34m)\u001b[0m\u001b[0;34m\u001b[0m\u001b[0;34m\u001b[0m\u001b[0m\n\u001b[1;32m      5\u001b[0m         \u001b[0mself\u001b[0m\u001b[0;34m.\u001b[0m\u001b[0mmodel\u001b[0m \u001b[0;34m=\u001b[0m \u001b[0mmodel\u001b[0m\u001b[0;34m\u001b[0m\u001b[0;34m\u001b[0m\u001b[0m\n",
      "\u001b[0;31mNameError\u001b[0m: name 'nn' is not defined"
     ]
    }
   ],
   "source": [
    "# 定义分类器，可以根据需要修改\n",
    "class Classifier(nn.Module):\n",
    "    def __init__(self, model, num_classes):\n",
    "        super().__init__()\n",
    "        self.model = model\n",
    "        self.dropout = nn.Dropout(0.1)\n",
    "        self.linear = nn.Linear(model.config.hidden_size, num_classes)\n",
    "    def forward(self, input_ids, attention_mask):\n",
    "        outputs = self.model(input_ids, attention_mask)\n",
    "        pooled_output = outputs[1]\n",
    "        pooled_output = self.dropout(pooled_output)\n",
    "        logits = self.linear(pooled_output)\n",
    "        return logits\n",
    "# 实例化分类器\n",
    "classifier = Classifier(model, num_classes)"
   ]
  },
  {
   "cell_type": "code",
   "execution_count": null,
   "id": "61a0e561-3fdb-4ba3-8139-82f82e7465cb",
   "metadata": {},
   "outputs": [],
   "source": [
    "# 定义分类器，可以根据需要修改\n",
    "class Classifier(nn.Module): # 定义一个继承自nn.Module的类，用于构建分类器\n",
    "    def __init__(self, model, num_classes): # 定义初始化方法，接收两个参数：model和num_classes\n",
    "        super().__init__() # 调用父类的初始化方法\n",
    "        self.model = model # 将model赋值给self.model，model是一个预训练的模型，如BERT\n",
    "        self.dropout = nn.Dropout(0.1) # 定义一个dropout层，用于防止过拟合，设置丢弃率为0.1\n",
    "        self.linear = nn.Linear(model.config.hidden_size, num_classes) # 定义一个线性层，用于将模型的输出映射到分类数，输入维度为模型的隐藏层大小，输出维度为分类数\n",
    "\n",
    "    def forward(self, input_ids, attention_mask): # 定义前向传播方法，接收两个参数：input_ids和attention_mask\n",
    "        outputs = self.model(input_ids, attention_mask) # 调用模型的前向传播方法，得到模型的输出，是一个元组，包含最后一层的输出和池化后的输出\n",
    "        pooled_output = outputs[1] # 取出元组中的第二个元素，即池化后的输出，是一个张量，形状为[batch_size, hidden_size]\n",
    "        pooled_output = self.dropout(pooled_output) # 将池化后的输出通过dropout层，得到一个新的张量\n",
    "        logits = self.linear(pooled_output) # 将dropout后的输出通过线性层，得到一个新的张量，形状为[batch_size, num_classes]，表示每个样本在每个类别上的得分\n",
    "        return logits # 返回logits张量\n",
    "\n",
    "# 实例化分类器\n",
    "classifier = Classifier(model, num_classes) # 用model和num_classes作为参数，创建一个Classifier对象，赋值给classifier变量"
   ]
  },
  {
   "cell_type": "code",
   "execution_count": null,
   "id": "6b3fb4e9-8278-4441-875e-fd84f9cfd470",
   "metadata": {},
   "outputs": [],
   "source": []
  }
 ],
 "metadata": {
  "kernelspec": {
   "display_name": "Python 3",
   "language": "python",
   "name": "python3"
  },
  "language_info": {
   "codemirror_mode": {
    "name": "ipython",
    "version": 3
   },
   "file_extension": ".py",
   "mimetype": "text/x-python",
   "name": "python",
   "nbconvert_exporter": "python",
   "pygments_lexer": "ipython3",
   "version": "3.6.15"
  }
 },
 "nbformat": 4,
 "nbformat_minor": 5
}
