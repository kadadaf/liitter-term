#导入模型及相关的包
import torch
from torch import nn
get_ipython().getoutput("pip install sklearn")
import sklearn
from torch.utils.data import DataLoader
from sklearn.metrics import accuracy_score
from transformers import BertTokenizer, ErnieModel
import transformers
print(transformers.__version__)
tokenizer = BertTokenizer.from_pretrained("nghuyong/ernie-3.0-xbase-zh")
model = ErnieModel.from_pretrained("nghuyong/ernie-3.0-xbase-zh")
