get_ipython().getoutput("pip install --upgrade transformers")
from transformers import BertTokenizer, ErnieForMaskedLM
tokenizer = BertTokenizer.from_pretrained("nghuyong/ernie-3.0-base-zh")
model = ErnieForMaskedLM.from_pretrained("nghuyong/ernie-3.0-base-zh")



from transformers import BertTokenizer, ErnieModel

tokenizer = BertTokenizer.from_pretrained("nghuyong/ernie-3.0-medium-zh")
model = ErnieModel.from_pretrained("nghuyong/ernie-3.0-medium-zh")

